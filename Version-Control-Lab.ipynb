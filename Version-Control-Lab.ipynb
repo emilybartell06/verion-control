{
 "cells": [
  {
   "cell_type": "code",
   "execution_count": 4,
   "id": "cc0616cc-4bfc-4ead-9a1a-d6b8d3033aac",
   "metadata": {},
   "outputs": [
    {
     "name": "stdin",
     "output_type": "stream",
     "text": [
      "What is your name? Sally\n",
      "How old are you? 25\n"
     ]
    },
    {
     "name": "stdout",
     "output_type": "stream",
     "text": [
      "Hello Sally! Have an amazing day\n"
     ]
    }
   ],
   "source": [
    "name = input(\"What is your name?\")\n",
    "age = int(input(\"How old are you?\"))\n",
    "\n",
    "if(age >=25):\n",
    "    print(\"Hello \" + name + \"! Have an amazing day\")\n",
    "\n",
    "elif(age < 25):\n",
    "    print(\"Hello \" + name + \"! Have a wonderful day\")"
   ]
  }
 ],
 "metadata": {
  "kernelspec": {
   "display_name": "Python 3 (ipykernel)",
   "language": "python",
   "name": "python3"
  },
  "language_info": {
   "codemirror_mode": {
    "name": "ipython",
    "version": 3
   },
   "file_extension": ".py",
   "mimetype": "text/x-python",
   "name": "python",
   "nbconvert_exporter": "python",
   "pygments_lexer": "ipython3",
   "version": "3.12.4"
  }
 },
 "nbformat": 4,
 "nbformat_minor": 5
}
